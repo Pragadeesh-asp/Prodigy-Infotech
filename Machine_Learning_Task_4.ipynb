{
  "nbformat": 4,
  "nbformat_minor": 0,
  "metadata": {
    "colab": {
      "provenance": [],
      "authorship_tag": "ABX9TyN/0eIzCV4F6xnYBjl47qcy",
      "include_colab_link": true
    },
    "kernelspec": {
      "name": "python3",
      "display_name": "Python 3"
    },
    "language_info": {
      "name": "python"
    }
  },
  "cells": [
    {
      "cell_type": "markdown",
      "metadata": {
        "id": "view-in-github",
        "colab_type": "text"
      },
      "source": [
        "<a href=\"https://colab.research.google.com/github/Pragadeesh-asp/Prodigy-Infotech/blob/main/Machine_Learning_Task_4.ipynb\" target=\"_parent\"><img src=\"https://colab.research.google.com/assets/colab-badge.svg\" alt=\"Open In Colab\"/></a>"
      ]
    },
    {
      "cell_type": "code",
      "execution_count": 1,
      "metadata": {
        "colab": {
          "base_uri": "https://localhost:8080/"
        },
        "id": "731GE5VXq9VZ",
        "outputId": "37982322-d248-4737-abc6-f7f841e6a6eb"
      },
      "outputs": [
        {
          "output_type": "stream",
          "name": "stdout",
          "text": [
            "Downloading data from https://storage.googleapis.com/tensorflow/tf-keras-datasets/mnist.npz\n",
            "11490434/11490434 [==============================] - 0s 0us/step\n",
            "Epoch 1/10\n",
            "469/469 [==============================] - 61s 126ms/step - loss: 0.2375 - accuracy: 0.9316 - val_loss: 0.0707 - val_accuracy: 0.9774\n",
            "Epoch 2/10\n",
            "469/469 [==============================] - 51s 109ms/step - loss: 0.0649 - accuracy: 0.9800 - val_loss: 0.0453 - val_accuracy: 0.9844\n",
            "Epoch 3/10\n",
            "469/469 [==============================] - 55s 118ms/step - loss: 0.0433 - accuracy: 0.9867 - val_loss: 0.0360 - val_accuracy: 0.9873\n",
            "Epoch 4/10\n",
            "469/469 [==============================] - 49s 105ms/step - loss: 0.0347 - accuracy: 0.9892 - val_loss: 0.0360 - val_accuracy: 0.9877\n",
            "Epoch 5/10\n",
            "469/469 [==============================] - 55s 117ms/step - loss: 0.0270 - accuracy: 0.9916 - val_loss: 0.0364 - val_accuracy: 0.9874\n",
            "Epoch 6/10\n",
            "469/469 [==============================] - 55s 118ms/step - loss: 0.0214 - accuracy: 0.9932 - val_loss: 0.0318 - val_accuracy: 0.9890\n",
            "Epoch 7/10\n",
            "469/469 [==============================] - 53s 113ms/step - loss: 0.0189 - accuracy: 0.9938 - val_loss: 0.0283 - val_accuracy: 0.9918\n",
            "Epoch 8/10\n",
            "469/469 [==============================] - 54s 114ms/step - loss: 0.0145 - accuracy: 0.9950 - val_loss: 0.0315 - val_accuracy: 0.9899\n",
            "Epoch 9/10\n",
            "469/469 [==============================] - 56s 120ms/step - loss: 0.0128 - accuracy: 0.9955 - val_loss: 0.0293 - val_accuracy: 0.9908\n",
            "Epoch 10/10\n",
            "469/469 [==============================] - 56s 120ms/step - loss: 0.0109 - accuracy: 0.9966 - val_loss: 0.0302 - val_accuracy: 0.9911\n",
            "Test loss: 0.03022005222737789\n",
            "Test accuracy: 0.991100013256073\n"
          ]
        }
      ],
      "source": [
        "import tensorflow as tf\n",
        "from tensorflow.keras.models import Sequential\n",
        "from tensorflow.keras.layers import Conv2D, MaxPooling2D, Flatten, Dense\n",
        "import cv2\n",
        "import numpy as np\n",
        "\n",
        "# Load the dataset\n",
        "(x_train, y_train), (x_test, y_test) = tf.keras.datasets.mnist.load_data()\n",
        "\n",
        "# Preprocess the data\n",
        "x_train = x_train.reshape(-1, 28, 28, 1)\n",
        "x_test = x_test.reshape(-1, 28, 28, 1)\n",
        "x_train = x_train.astype('float32') / 255\n",
        "x_test = x_test.astype('float32') / 255\n",
        "y_train = tf.keras.utils.to_categorical(y_train, 10)\n",
        "y_test = tf.keras.utils.to_categorical(y_test, 10)\n",
        "\n",
        "# Define the model architecture\n",
        "model = Sequential()\n",
        "model.add(Conv2D(32, kernel_size=(3, 3), activation='relu', input_shape=(28, 28, 1)))\n",
        "model.add(MaxPooling2D(pool_size=(2, 2)))\n",
        "model.add(Conv2D(64, kernel_size=(3, 3), activation='relu'))\n",
        "model.add(MaxPooling2D(pool_size=(2, 2)))\n",
        "model.add(Flatten())\n",
        "model.add(Dense(64, activation='relu'))\n",
        "model.add(Dense(10, activation='softmax'))\n",
        "\n",
        "# Compile the model\n",
        "model.compile(loss=tf.keras.losses.categorical_crossentropy,\n",
        "              optimizer=tf.keras.optimizers.Adam(),\n",
        "              metrics=['accuracy'])\n",
        "\n",
        "# Train the model\n",
        "model.fit(x_train, y_train,\n",
        "          batch_size=128,\n",
        "          epochs=10,\n",
        "          verbose=1,\n",
        "          validation_data=(x_test, y_test))\n",
        "\n",
        "# Test the model\n",
        "score = model.evaluate(x_test, y_test, verbose=0)\n",
        "print('Test loss:', score[0])\n",
        "print('Test accuracy:', score[1])\n",
        "\n",
        "# Real-time testing using a webcam\n",
        "def real_time_test():\n",
        "    cap = cv2.VideoCapture(0)\n",
        "    while True:\n",
        "        ret, frame = cap.read()\n",
        "        if not ret:\n",
        "            break\n",
        "        frame = cv2.resize(frame, (28, 28))\n",
        "        frame = cv2.cvtColor(frame, cv2.COLOR_BGR2GRAY)\n",
        "        frame = np.expand_dims(frame, axis=-1)\n",
        "        frame = frame.astype('float32') / 255\n",
        "        frame = np.expand_dims(frame, axis=0)\n",
        "        prediction = model.predict(frame)\n",
        "        predicted_class = np.argmax(prediction)\n",
        "        cv2.putText(frame, str(predicted_class), (10, 30), cv2.FONT_HERSHEY_SIMPLEX, 1, (0, 255, 0), 2)\n",
        "        cv2.imshow('Hand Gesture Recognition', frame)\n",
        "        if cv2.waitKey(1) & 0xFF == ord('q'):\n",
        "            break\n",
        "    cap.release()\n",
        "    cv2.destroyAllWindows()\n",
        "\n",
        "real_time_test()"
      ]
    }
  ]
}